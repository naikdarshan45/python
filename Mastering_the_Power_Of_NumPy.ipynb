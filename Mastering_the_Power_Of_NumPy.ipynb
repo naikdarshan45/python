{
  "cells": [
    {
      "cell_type": "markdown",
      "metadata": {
        "id": "view-in-github",
        "colab_type": "text"
      },
      "source": [
        "<a href=\"https://colab.research.google.com/github/naikdarshan45/python/blob/main/Mastering_the_Power_Of_NumPy.ipynb\" target=\"_parent\"><img src=\"https://colab.research.google.com/assets/colab-badge.svg\" alt=\"Open In Colab\"/></a>"
      ]
    },
    {
      "cell_type": "code",
      "execution_count": null,
      "metadata": {
        "colab": {
          "background_save": true
        },
        "id": "RTotCF_HTKcZ"
      },
      "outputs": [],
      "source": [
        "import numpy as np\n"
      ]
    },
    {
      "cell_type": "code",
      "source": [],
      "metadata": {
        "id": "ZYQdEX33EPw4"
      },
      "execution_count": null,
      "outputs": []
    },
    {
      "cell_type": "code",
      "execution_count": null,
      "metadata": {
        "colab": {
          "background_save": true,
          "base_uri": "https://localhost:8080/"
        },
        "id": "aY7Xw7gXXLRs",
        "outputId": "ca372b13-3757-4154-f07d-341eed42c591"
      },
      "outputs": [
        {
          "data": {
            "text/plain": [
              "array([20, 40, 50, 60])"
            ]
          },
          "execution_count": 29,
          "metadata": {},
          "output_type": "execute_result"
        }
      ],
      "source": [
        "arr = np.array([20, 40, 50, 60])\n",
        "arr"
      ]
    },
    {
      "cell_type": "code",
      "execution_count": null,
      "metadata": {
        "colab": {
          "background_save": true,
          "base_uri": "https://localhost:8080/"
        },
        "id": "nqgl2_mwXfJh",
        "outputId": "3379dcab-662c-4af1-e341-8a83fe48aa98"
      },
      "outputs": [
        {
          "data": {
            "text/plain": [
              "numpy.ndarray"
            ]
          },
          "execution_count": 30,
          "metadata": {},
          "output_type": "execute_result"
        }
      ],
      "source": [
        "type(arr)"
      ]
    },
    {
      "cell_type": "code",
      "execution_count": null,
      "metadata": {
        "colab": {
          "background_save": true,
          "base_uri": "https://localhost:8080/"
        },
        "id": "FoJeH1pwXnNl",
        "outputId": "2e1c2919-ddd0-4a27-844c-9757024d46e8"
      },
      "outputs": [
        {
          "data": {
            "text/plain": [
              "array([[20, 40],\n",
              "       [50, 60]])"
            ]
          },
          "execution_count": 31,
          "metadata": {},
          "output_type": "execute_result"
        }
      ],
      "source": [
        "# 2d array\n",
        "arr2 = np.array([[20, 40],[50, 60]])\n",
        "arr2"
      ]
    },
    {
      "cell_type": "code",
      "execution_count": null,
      "metadata": {
        "colab": {
          "background_save": true,
          "base_uri": "https://localhost:8080/"
        },
        "id": "dOFTg-KVYAaL",
        "outputId": "c6f61e73-2038-41ae-8271-f1a91f35d73b"
      },
      "outputs": [
        {
          "data": {
            "text/plain": [
              "numpy.ndarray"
            ]
          },
          "execution_count": 32,
          "metadata": {},
          "output_type": "execute_result"
        }
      ],
      "source": [
        "type(arr2)"
      ]
    },
    {
      "cell_type": "code",
      "execution_count": null,
      "metadata": {
        "colab": {
          "background_save": true,
          "base_uri": "https://localhost:8080/"
        },
        "id": "ow_k4bAkYA3n",
        "outputId": "e425bb07-f659-4d82-aa8f-736220a1d27f"
      },
      "outputs": [
        {
          "data": {
            "text/plain": [
              "array([[[20, 40],\n",
              "        [50, 60]],\n",
              "\n",
              "       [[ 3,  4],\n",
              "        [ 4,  6]]])"
            ]
          },
          "execution_count": 33,
          "metadata": {},
          "output_type": "execute_result"
        }
      ],
      "source": [
        "#3d array\n",
        "arr3 = np.array([[[20, 40],[50, 60]],[[3,4],[4,6]]])\n",
        "arr3"
      ]
    },
    {
      "cell_type": "code",
      "execution_count": null,
      "metadata": {
        "colab": {
          "background_save": true,
          "base_uri": "https://localhost:8080/"
        },
        "id": "g9O14sx3ZIsv",
        "outputId": "04bb82c4-7b5d-42ad-8421-2e34e26cb84a"
      },
      "outputs": [
        {
          "data": {
            "text/plain": [
              "3"
            ]
          },
          "execution_count": 34,
          "metadata": {},
          "output_type": "execute_result"
        }
      ],
      "source": [
        "arr3.ndim"
      ]
    },
    {
      "cell_type": "code",
      "execution_count": null,
      "metadata": {
        "colab": {
          "background_save": true,
          "base_uri": "https://localhost:8080/"
        },
        "id": "CZdYfa20Zcwj",
        "outputId": "b589e3db-c637-4728-e2e2-b8f58072637f"
      },
      "outputs": [
        {
          "data": {
            "text/plain": [
              "(2, 2, 2)"
            ]
          },
          "execution_count": 35,
          "metadata": {},
          "output_type": "execute_result"
        }
      ],
      "source": [
        "arr3.shape"
      ]
    },
    {
      "cell_type": "code",
      "execution_count": null,
      "metadata": {
        "colab": {
          "background_save": true,
          "base_uri": "https://localhost:8080/"
        },
        "id": "D3JygwMjaK7U",
        "outputId": "bef1a28e-559c-4c14-f5cf-e7d63ee68885"
      },
      "outputs": [
        {
          "data": {
            "text/plain": [
              "array([[[20, 40],\n",
              "        [50, 60]],\n",
              "\n",
              "       [[ 3,  4],\n",
              "        [ 4,  6]],\n",
              "\n",
              "       [[ 3,  8],\n",
              "        [ 7,  9]]])"
            ]
          },
          "execution_count": 36,
          "metadata": {},
          "output_type": "execute_result"
        }
      ],
      "source": [
        "arr4 = np.array([[[20, 40],[50, 60]],[[3,4],[4,6]],[[3,8],[7,9]]])\n",
        "arr4"
      ]
    },
    {
      "cell_type": "code",
      "execution_count": null,
      "metadata": {
        "colab": {
          "background_save": true,
          "base_uri": "https://localhost:8080/"
        },
        "id": "06zSgMBQajH6",
        "outputId": "dbdf869d-a7b5-4c01-b037-07a6180d1ce6"
      },
      "outputs": [
        {
          "data": {
            "text/plain": [
              "(3, 2, 2)"
            ]
          },
          "execution_count": 37,
          "metadata": {},
          "output_type": "execute_result"
        }
      ],
      "source": [
        "arr4.shape"
      ]
    },
    {
      "cell_type": "code",
      "execution_count": null,
      "metadata": {
        "colab": {
          "base_uri": "https://localhost:8080/"
        },
        "id": "oE4Irb_r9NVf",
        "outputId": "948308be-21d1-43f9-96a1-f077015d9546"
      },
      "outputs": [
        {
          "data": {
            "text/plain": [
              "array([1, 3, 5, 7])"
            ]
          },
          "execution_count": 14,
          "metadata": {},
          "output_type": "execute_result"
        }
      ],
      "source": [
        "np.arange(1,9,2)"
      ]
    },
    {
      "cell_type": "code",
      "execution_count": null,
      "metadata": {
        "colab": {
          "base_uri": "https://localhost:8080/"
        },
        "id": "nPgVoVwA-BAE",
        "outputId": "0b1ff344-731c-492b-bb4a-0483b6f3b1d3"
      },
      "outputs": [
        {
          "data": {
            "text/plain": [
              "array([1. , 2.6, 4.2, 5.8, 7.4, 9. ])"
            ]
          },
          "execution_count": 15,
          "metadata": {},
          "output_type": "execute_result"
        }
      ],
      "source": [
        "np.linspace(1,9,6)"
      ]
    },
    {
      "cell_type": "code",
      "execution_count": null,
      "metadata": {
        "colab": {
          "base_uri": "https://localhost:8080/"
        },
        "id": "aByfofpK_nnO",
        "outputId": "63dcd2cf-e2a4-4491-f2b3-669a4e2cc478"
      },
      "outputs": [
        {
          "data": {
            "text/plain": [
              "array([[20, 40],\n",
              "       [50, 60]])"
            ]
          },
          "execution_count": 18,
          "metadata": {},
          "output_type": "execute_result"
        }
      ],
      "source": [
        "arr2"
      ]
    },
    {
      "cell_type": "markdown",
      "metadata": {
        "id": "eKFc_HYM_DU7"
      },
      "source": [
        "shallowArr = arr2"
      ]
    },
    {
      "cell_type": "code",
      "execution_count": null,
      "metadata": {
        "id": "fc9WJYqc_O9l"
      },
      "outputs": [],
      "source": [
        "deepArr = np.copy(arr2)"
      ]
    },
    {
      "cell_type": "code",
      "execution_count": null,
      "metadata": {
        "colab": {
          "base_uri": "https://localhost:8080/"
        },
        "id": "bSmI2iSB_ffH",
        "outputId": "db13bc48-36ba-4cd7-9599-381ba68209d8"
      },
      "outputs": [
        {
          "data": {
            "text/plain": [
              "array([[ 9, 40],\n",
              "       [50, 60]])"
            ]
          },
          "execution_count": 19,
          "metadata": {},
          "output_type": "execute_result"
        }
      ],
      "source": [
        "arr2[0][0]=9\n",
        "arr2"
      ]
    },
    {
      "cell_type": "code",
      "execution_count": 43,
      "metadata": {
        "colab": {
          "base_uri": "https://localhost:8080/"
        },
        "id": "fMe-rqn__1Cl",
        "outputId": "1f72a5ca-2f49-42bc-ae1d-ac6378849a1b"
      },
      "outputs": [
        {
          "data": {
            "text/plain": [
              "array([[ 9, 40],\n",
              "       [50, 60]])"
            ]
          },
          "execution_count": 43,
          "metadata": {},
          "output_type": "execute_result"
        }
      ],
      "source": [
        "shallowArr"
      ]
    },
    {
      "cell_type": "code",
      "execution_count": 44,
      "metadata": {
        "colab": {
          "base_uri": "https://localhost:8080/"
        },
        "id": "QS1roqqE_7hV",
        "outputId": "2da00996-1210-4126-a43d-b4e0c135decf"
      },
      "outputs": [
        {
          "data": {
            "text/plain": [
              "array([[20, 40],\n",
              "       [50, 60]])"
            ]
          },
          "execution_count": 44,
          "metadata": {},
          "output_type": "execute_result"
        }
      ],
      "source": [
        "deepArr"
      ]
    },
    {
      "cell_type": "code",
      "execution_count": 45,
      "metadata": {
        "colab": {
          "base_uri": "https://localhost:8080/"
        },
        "id": "y_mYi8o_A2Et",
        "outputId": "0da4bd2a-c30c-4dd8-e528-afc3fedeaf4b"
      },
      "outputs": [
        {
          "data": {
            "text/plain": [
              "array([[0., 0., 0., 0.],\n",
              "       [0., 1., 2., 3.],\n",
              "       [0., 2., 4., 6.],\n",
              "       [0., 3., 6., 9.]])"
            ]
          },
          "execution_count": 45,
          "metadata": {},
          "output_type": "execute_result"
        }
      ],
      "source": [
        "np.fromfunction(lambda i,j: i*j, (4,4))"
      ]
    },
    {
      "cell_type": "code",
      "execution_count": 46,
      "metadata": {
        "colab": {
          "base_uri": "https://localhost:8080/"
        },
        "id": "38Ohp67bCUp3",
        "outputId": "0974ccf4-e786-4203-f876-8f7297145d48"
      },
      "outputs": [
        {
          "data": {
            "text/plain": [
              "array([[0., 1., 2., 3.],\n",
              "       [1., 2., 3., 4.],\n",
              "       [2., 3., 4., 5.],\n",
              "       [3., 4., 5., 6.]])"
            ]
          },
          "execution_count": 46,
          "metadata": {},
          "output_type": "execute_result"
        }
      ],
      "source": [
        "\n",
        "np.fromfunction(lambda i,j: i+j, (4,4))"
      ]
    },
    {
      "cell_type": "code",
      "execution_count": 47,
      "metadata": {
        "colab": {
          "base_uri": "https://localhost:8080/"
        },
        "id": "x56tZaRrA90k",
        "outputId": "5b08fb05-ecab-4fa1-a390-920c7f11baf5"
      },
      "outputs": [
        {
          "data": {
            "text/plain": [
              "array([[ True, False, False, False],\n",
              "       [False,  True, False, False],\n",
              "       [False, False,  True, False],\n",
              "       [False, False, False,  True]])"
            ]
          },
          "execution_count": 47,
          "metadata": {},
          "output_type": "execute_result"
        }
      ],
      "source": [
        "np.fromfunction(lambda i,j: i==j, (4,4))"
      ]
    },
    {
      "cell_type": "code",
      "execution_count": 48,
      "metadata": {
        "colab": {
          "base_uri": "https://localhost:8080/"
        },
        "id": "M7AQiNq9DGny",
        "outputId": "81428a69-883d-4289-81f0-2cf3c6252807"
      },
      "outputs": [
        {
          "data": {
            "text/plain": [
              "array([[1., 0., 0., 0.],\n",
              "       [0., 1., 0., 0.],\n",
              "       [0., 0., 1., 0.],\n",
              "       [0., 0., 0., 1.]])"
            ]
          },
          "execution_count": 48,
          "metadata": {},
          "output_type": "execute_result"
        }
      ],
      "source": [
        "np.eye(4)"
      ]
    },
    {
      "cell_type": "code",
      "execution_count": 49,
      "metadata": {
        "id": "gAUarRWJDooe"
      },
      "outputs": [],
      "source": [
        "dataset = np.linspace(2,9, 50)"
      ]
    },
    {
      "cell_type": "code",
      "execution_count": 51,
      "metadata": {
        "id": "ttZrLOC6D9Kh",
        "colab": {
          "base_uri": "https://localhost:8080/"
        },
        "outputId": "35229944-ab73-4fe5-dd55-e463110a943a"
      },
      "outputs": [
        {
          "output_type": "execute_result",
          "data": {
            "text/plain": [
              "array([2.        , 2.14285714, 2.28571429, 2.42857143, 2.57142857,\n",
              "       2.71428571, 2.85714286, 3.        , 3.14285714, 3.28571429,\n",
              "       3.42857143, 3.57142857, 3.71428571, 3.85714286, 4.        ,\n",
              "       4.14285714, 4.28571429, 4.42857143, 4.57142857, 4.71428571,\n",
              "       4.85714286, 5.        , 5.14285714, 5.28571429, 5.42857143,\n",
              "       5.57142857, 5.71428571, 5.85714286, 6.        , 6.14285714,\n",
              "       6.28571429, 6.42857143, 6.57142857, 6.71428571, 6.85714286,\n",
              "       7.        , 7.14285714, 7.28571429, 7.42857143, 7.57142857,\n",
              "       7.71428571, 7.85714286, 8.        , 8.14285714, 8.28571429,\n",
              "       8.42857143, 8.57142857, 8.71428571, 8.85714286, 9.        ])"
            ]
          },
          "metadata": {},
          "execution_count": 51
        }
      ],
      "source": [
        "dataset"
      ]
    },
    {
      "cell_type": "code",
      "source": [
        "dataset.shape"
      ],
      "metadata": {
        "colab": {
          "base_uri": "https://localhost:8080/"
        },
        "id": "o1Uuz09XERX_",
        "outputId": "dbbb3979-43ff-421c-cd25-d066b2949609"
      },
      "execution_count": 52,
      "outputs": [
        {
          "output_type": "execute_result",
          "data": {
            "text/plain": [
              "(50,)"
            ]
          },
          "metadata": {},
          "execution_count": 52
        }
      ]
    },
    {
      "cell_type": "code",
      "source": [
        "dataset.reshape(2,1,25)"
      ],
      "metadata": {
        "colab": {
          "base_uri": "https://localhost:8080/"
        },
        "id": "0Zmn9hpCEXFy",
        "outputId": "d1bf68ff-37f4-4d7b-970c-eb23d9ab5d76"
      },
      "execution_count": 56,
      "outputs": [
        {
          "output_type": "execute_result",
          "data": {
            "text/plain": [
              "array([[[2.        , 2.14285714, 2.28571429, 2.42857143, 2.57142857,\n",
              "         2.71428571, 2.85714286, 3.        , 3.14285714, 3.28571429,\n",
              "         3.42857143, 3.57142857, 3.71428571, 3.85714286, 4.        ,\n",
              "         4.14285714, 4.28571429, 4.42857143, 4.57142857, 4.71428571,\n",
              "         4.85714286, 5.        , 5.14285714, 5.28571429, 5.42857143]],\n",
              "\n",
              "       [[5.57142857, 5.71428571, 5.85714286, 6.        , 6.14285714,\n",
              "         6.28571429, 6.42857143, 6.57142857, 6.71428571, 6.85714286,\n",
              "         7.        , 7.14285714, 7.28571429, 7.42857143, 7.57142857,\n",
              "         7.71428571, 7.85714286, 8.        , 8.14285714, 8.28571429,\n",
              "         8.42857143, 8.57142857, 8.71428571, 8.85714286, 9.        ]]])"
            ]
          },
          "metadata": {},
          "execution_count": 56
        }
      ]
    },
    {
      "cell_type": "code",
      "source": [],
      "metadata": {
        "id": "BEvVphoQElUB"
      },
      "execution_count": 56,
      "outputs": []
    },
    {
      "cell_type": "code",
      "source": [],
      "metadata": {
        "id": "vf87B9dtEneQ"
      },
      "execution_count": null,
      "outputs": []
    }
  ],
  "metadata": {
    "colab": {
      "provenance": [],
      "authorship_tag": "ABX9TyNo8WpA3u2PZz9sVQ9NPQZi",
      "include_colab_link": true
    },
    "kernelspec": {
      "display_name": "Python 3",
      "name": "python3"
    },
    "language_info": {
      "name": "python"
    }
  },
  "nbformat": 4,
  "nbformat_minor": 0
}