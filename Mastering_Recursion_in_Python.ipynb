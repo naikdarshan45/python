{
  "nbformat": 4,
  "nbformat_minor": 0,
  "metadata": {
    "colab": {
      "provenance": [],
      "authorship_tag": "ABX9TyOeysZeJSG1757aLjM0XBmU",
      "include_colab_link": true
    },
    "kernelspec": {
      "name": "python3",
      "display_name": "Python 3"
    },
    "language_info": {
      "name": "python"
    }
  },
  "cells": [
    {
      "cell_type": "markdown",
      "metadata": {
        "id": "view-in-github",
        "colab_type": "text"
      },
      "source": [
        "<a href=\"https://colab.research.google.com/github/naikdarshan45/python/blob/main/Mastering_Recursion_in_Python.ipynb\" target=\"_parent\"><img src=\"https://colab.research.google.com/assets/colab-badge.svg\" alt=\"Open In Colab\"/></a>"
      ]
    },
    {
      "cell_type": "code",
      "execution_count": 13,
      "metadata": {
        "id": "Q5Nk4Wdf3QhJ",
        "colab": {
          "base_uri": "https://localhost:8080/"
        },
        "outputId": "10d28ccd-0732-4c33-8e77-4d416eb9baab"
      },
      "outputs": [
        {
          "output_type": "stream",
          "name": "stdout",
          "text": [
            "120\n"
          ]
        }
      ],
      "source": [
        "def recursion(num):\n",
        "  fact=1\n",
        "  if num<=1:\n",
        "    return 1\n",
        "  else:\n",
        "    return num*recursion(num-1)\n",
        "\n",
        "\n",
        "print(recursion(5))\n",
        "\n"
      ]
    },
    {
      "cell_type": "code",
      "source": [
        "def fibonachi(num):\n",
        "   if num<=1:\n",
        "    return 1\n",
        "   else:\n",
        "     return fibonachi(num-1) + fibonachi(num-2)\n",
        "\n",
        "print(fibonachi(5))"
      ],
      "metadata": {
        "colab": {
          "base_uri": "https://localhost:8080/"
        },
        "id": "T_vyqj7JAfqK",
        "outputId": "334ff861-b80e-425c-9d96-c3ddddd15197"
      },
      "execution_count": 15,
      "outputs": [
        {
          "output_type": "stream",
          "name": "stdout",
          "text": [
            "8\n"
          ]
        }
      ]
    },
    {
      "cell_type": "code",
      "source": [
        "def sum(num):\n",
        "  if num<=1:\n",
        "    return 1\n",
        "  else:\n",
        "    return num+sum(num-1)\n",
        "\n",
        "print(sum(4))"
      ],
      "metadata": {
        "colab": {
          "base_uri": "https://localhost:8080/"
        },
        "id": "WVGwxZ_gE4QZ",
        "outputId": "db42e185-f228-4041-818f-9bbf4c6e95fc"
      },
      "execution_count": 19,
      "outputs": [
        {
          "output_type": "stream",
          "name": "stdout",
          "text": [
            "10\n"
          ]
        }
      ]
    }
  ]
}