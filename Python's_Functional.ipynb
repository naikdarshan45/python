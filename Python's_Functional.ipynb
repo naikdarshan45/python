{
  "nbformat": 4,
  "nbformat_minor": 0,
  "metadata": {
    "colab": {
      "provenance": [],
      "authorship_tag": "ABX9TyNAng7tT2VIxR4lF7yCrexE",
      "include_colab_link": true
    },
    "kernelspec": {
      "name": "python3",
      "display_name": "Python 3"
    },
    "language_info": {
      "name": "python"
    }
  },
  "cells": [
    {
      "cell_type": "markdown",
      "metadata": {
        "id": "view-in-github",
        "colab_type": "text"
      },
      "source": [
        "<a href=\"https://colab.research.google.com/github/naikdarshan45/python/blob/main/Python's_Functional.ipynb\" target=\"_parent\"><img src=\"https://colab.research.google.com/assets/colab-badge.svg\" alt=\"Open In Colab\"/></a>"
      ]
    },
    {
      "cell_type": "code",
      "execution_count": 1,
      "metadata": {
        "colab": {
          "base_uri": "https://localhost:8080/"
        },
        "id": "e5P0MfmFNV9P",
        "outputId": "85cecc95-63f4-4cce-c679-6b1ca31c5f47"
      },
      "outputs": [
        {
          "output_type": "execute_result",
          "data": {
            "text/plain": [
              "125"
            ]
          },
          "metadata": {},
          "execution_count": 1
        }
      ],
      "source": [
        "lamda_cube = lambda x: x*x*x\n",
        "lamda_cube(5)"
      ]
    },
    {
      "cell_type": "code",
      "source": [
        "string_length=lambda s: len(s)\n",
        "string_length(\"darshan naik\")"
      ],
      "metadata": {
        "id": "JcHuVzgeputR"
      },
      "execution_count": null,
      "outputs": []
    },
    {
      "cell_type": "code",
      "source": [
        "lambda_sum = lambda x,y: x+y\n",
        "lambda_sum(3,4)"
      ],
      "metadata": {
        "colab": {
          "base_uri": "https://localhost:8080/"
        },
        "id": "rAEFEJH1QdeG",
        "outputId": "445d46a2-54a9-46b6-ebf0-e6ed7b75b407"
      },
      "execution_count": 2,
      "outputs": [
        {
          "output_type": "execute_result",
          "data": {
            "text/plain": [
              "7"
            ]
          },
          "metadata": {},
          "execution_count": 2
        }
      ]
    },
    {
      "cell_type": "code",
      "source": [
        "fruits=[\"apple\", \"banana\", \"cherry\", \"mango\",\"dragern_fruits\"]\n",
        "sorted(fruits)\n",
        "\n",
        "fruits=[\"apple\", \"banana\", \"cherry\", \"mango\",\"dragern_fruits\"]\n",
        "sorted(fruits, key=lambda x: len(x))"
      ],
      "metadata": {
        "id": "AzRt0CDTp4ly"
      },
      "execution_count": null,
      "outputs": []
    },
    {
      "cell_type": "code",
      "source": [
        "# sort a list of dictionary on the basis of specific key\n",
        "\n",
        "employee_record=[{\"name\":\"darshan\", 'age': 20, 'occupation':'enginerring'},\n",
        "                 {\"name\":\"harsha\", 'age': 14, 'occupation':'doctor'},\n",
        "                 {\"name\":\"nikill\", 'age': 29, 'occupation':'datascientist'},\n",
        "                  {\"name\":\"dil\", 'age': 29, 'occupation':'datascientist'}]"
      ],
      "metadata": {
        "id": "oGXX1-adQ9NR"
      },
      "execution_count": 11,
      "outputs": []
    },
    {
      "cell_type": "code",
      "source": [
        "data = {'a': 10, 'b': 20, 'c': 5, 'd': 15}\n",
        "max(data, key=lambda x: data[x])"
      ],
      "metadata": {
        "id": "AP77a2n8qAAQ"
      },
      "execution_count": null,
      "outputs": []
    },
    {
      "cell_type": "code",
      "source": [
        "sorted(employee_record, key=lambda x:x['age'])"
      ],
      "metadata": {
        "colab": {
          "base_uri": "https://localhost:8080/"
        },
        "id": "geGPZtMHSP56",
        "outputId": "ef0d7ee4-24e4-4110-d85e-942cd7e7d216"
      },
      "execution_count": 9,
      "outputs": [
        {
          "output_type": "execute_result",
          "data": {
            "text/plain": [
              "[{'name': 'harsha', 'age': 14, 'occupation': 'doctor'},\n",
              " {'name': 'darshan', 'age': 20, 'occupation': 'enginerring'},\n",
              " {'name': 'nikill', 'age': 29, 'occupation': 'datascientist'}]"
            ]
          },
          "metadata": {},
          "execution_count": 9
        }
      ]
    },
    {
      "cell_type": "code",
      "source": [
        "sorted(employee_record, key=lambda x:(x['age'],x['name']))"
      ],
      "metadata": {
        "colab": {
          "base_uri": "https://localhost:8080/"
        },
        "id": "aLrTKGhES_5d",
        "outputId": "14937ed7-d321-46f1-c1a6-02719a2875c1"
      },
      "execution_count": 12,
      "outputs": [
        {
          "output_type": "execute_result",
          "data": {
            "text/plain": [
              "[{'name': 'harsha', 'age': 14, 'occupation': 'doctor'},\n",
              " {'name': 'darshan', 'age': 20, 'occupation': 'enginerring'},\n",
              " {'name': 'dil', 'age': 29, 'occupation': 'datascientist'},\n",
              " {'name': 'nikill', 'age': 29, 'occupation': 'datascientist'}]"
            ]
          },
          "metadata": {},
          "execution_count": 12
        }
      ]
    },
    {
      "cell_type": "code",
      "source": [
        "#  map function\n",
        "# l1=[2,4,5,6,7]\n",
        "# l2=[]\n",
        "\n",
        "# for ele in l1:\n",
        "#   l2.append(ele**2)\n",
        "# print(l2)\n",
        "\n",
        "\n",
        "\n",
        "l2=list(map(lambda l1:l1**2, l1))\n",
        "print(l2)"
      ],
      "metadata": {
        "colab": {
          "base_uri": "https://localhost:8080/"
        },
        "id": "ocvX7ux1Tn5s",
        "outputId": "efa79953-35f3-4088-c566-744c0c9816e7"
      },
      "execution_count": 18,
      "outputs": [
        {
          "output_type": "stream",
          "name": "stdout",
          "text": [
            "[4, 16, 25, 36, 49]\n"
          ]
        }
      ]
    },
    {
      "cell_type": "code",
      "source": [
        "map(lambda l1:l1**2, l1)"
      ],
      "metadata": {
        "colab": {
          "base_uri": "https://localhost:8080/"
        },
        "id": "MYQM1tWDWlw9",
        "outputId": "2502bb3a-0153-4537-984e-2df8d1cc0290"
      },
      "execution_count": 19,
      "outputs": [
        {
          "output_type": "execute_result",
          "data": {
            "text/plain": [
              "<map at 0x7e603ef90490>"
            ]
          },
          "metadata": {},
          "execution_count": 19
        }
      ]
    },
    {
      "cell_type": "code",
      "source": [
        "# filter\n",
        "l3=[2,3,5,7,8,9,13,15]\n",
        "l4 =list(filter(lambda x:x%2==0, l3))\n",
        "print(l4)"
      ],
      "metadata": {
        "colab": {
          "base_uri": "https://localhost:8080/"
        },
        "id": "S_xrpabPlTp4",
        "outputId": "fad603ed-9eff-438a-d58b-baf9a75e840f"
      },
      "execution_count": 20,
      "outputs": [
        {
          "output_type": "stream",
          "name": "stdout",
          "text": [
            "[2, 8]\n"
          ]
        }
      ]
    },
    {
      "cell_type": "code",
      "source": [
        "#reduce\n"
      ],
      "metadata": {
        "id": "dmla4G3tmPcN"
      },
      "execution_count": null,
      "outputs": []
    }
  ]
}