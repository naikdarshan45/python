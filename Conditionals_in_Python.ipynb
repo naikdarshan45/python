{
  "nbformat": 4,
  "nbformat_minor": 0,
  "metadata": {
    "colab": {
      "provenance": [],
      "authorship_tag": "ABX9TyPmK/OCNuevJkyqWpvGEyA2",
      "include_colab_link": true
    },
    "kernelspec": {
      "name": "python3",
      "display_name": "Python 3"
    },
    "language_info": {
      "name": "python"
    }
  },
  "cells": [
    {
      "cell_type": "markdown",
      "metadata": {
        "id": "view-in-github",
        "colab_type": "text"
      },
      "source": [
        "<a href=\"https://colab.research.google.com/github/naikdarshan45/python/blob/main/Conditionals_in_Python.ipynb\" target=\"_parent\"><img src=\"https://colab.research.google.com/assets/colab-badge.svg\" alt=\"Open In Colab\"/></a>"
      ]
    },
    {
      "cell_type": "code",
      "execution_count": 6,
      "metadata": {
        "colab": {
          "base_uri": "https://localhost:8080/"
        },
        "id": "1FpV05hQiu_I",
        "outputId": "b485215e-bdbd-433d-dbbe-7042968b5735"
      },
      "outputs": [
        {
          "output_type": "stream",
          "name": "stdout",
          "text": [
            "enter your percentage99\n",
            "congratulations!!! your selected in IIT collages\n"
          ]
        }
      ],
      "source": [
        "iit_shortlist_persentage = 90.0\n",
        "candidate_persentage =float(input(\"enter your percentage\"))\n",
        "if candidate_persentage >= iit_shortlist_persentage:\n",
        "  print(\"congratulations!!! your selected in IIT collages\")\n",
        "else:\n",
        "  print(\"sorry you didn't met the selection criteria\")"
      ]
    },
    {
      "cell_type": "code",
      "source": [],
      "metadata": {
        "id": "8BdTxngupzcB"
      },
      "execution_count": 6,
      "outputs": []
    }
  ]
}