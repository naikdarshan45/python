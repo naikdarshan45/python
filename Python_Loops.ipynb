{
  "nbformat": 4,
  "nbformat_minor": 0,
  "metadata": {
    "colab": {
      "provenance": [],
      "authorship_tag": "ABX9TyMBpk7sveJo9ydsLKN25IsO",
      "include_colab_link": true
    },
    "kernelspec": {
      "name": "python3",
      "display_name": "Python 3"
    },
    "language_info": {
      "name": "python"
    }
  },
  "cells": [
    {
      "cell_type": "markdown",
      "metadata": {
        "id": "view-in-github",
        "colab_type": "text"
      },
      "source": [
        "<a href=\"https://colab.research.google.com/github/naikdarshan45/python/blob/main/Python_Loops.ipynb\" target=\"_parent\"><img src=\"https://colab.research.google.com/assets/colab-badge.svg\" alt=\"Open In Colab\"/></a>"
      ]
    },
    {
      "cell_type": "code",
      "execution_count": null,
      "metadata": {
        "colab": {
          "base_uri": "https://localhost:8080/"
        },
        "id": "Dbq9oTkSRsKz",
        "outputId": "03a9c818-2703-4185-d8f7-7111f4639453"
      },
      "outputs": [
        {
          "output_type": "stream",
          "name": "stdout",
          "text": [
            "d\n",
            "a\n",
            "r\n",
            "s\n",
            "h\n",
            "a\n",
            "n\n"
          ]
        }
      ],
      "source": [
        "str1=\"darshan\"\n",
        "for i in str1:\n",
        "  print(i)"
      ]
    },
    {
      "cell_type": "code",
      "source": [
        "for i in str1:\n",
        "  print(i.upper())"
      ],
      "metadata": {
        "colab": {
          "base_uri": "https://localhost:8080/"
        },
        "id": "GZE1XhBOWBUa",
        "outputId": "88abf393-6eba-47ea-8e34-c84547941f81"
      },
      "execution_count": null,
      "outputs": [
        {
          "output_type": "stream",
          "name": "stdout",
          "text": [
            "D\n",
            "A\n",
            "R\n",
            "S\n",
            "H\n",
            "A\n",
            "N\n"
          ]
        }
      ]
    },
    {
      "cell_type": "code",
      "source": [
        "list=[2,4,5,6,7,8,33,44.67,34,67]\n",
        "for num in list:\n",
        "  if num%2==0:\n",
        "    print(num)"
      ],
      "metadata": {
        "colab": {
          "base_uri": "https://localhost:8080/"
        },
        "id": "6-lkLRbnWhQ2",
        "outputId": "cd888727-2c79-4682-f5ff-eacffa6b6bd9"
      },
      "execution_count": 7,
      "outputs": [
        {
          "output_type": "stream",
          "name": "stdout",
          "text": [
            "2\n",
            "4\n",
            "6\n",
            "8\n",
            "34\n"
          ]
        }
      ]
    },
    {
      "cell_type": "code",
      "source": [
        "num=5\n",
        "factorial = 1\n",
        "while(num>0):\n",
        "  factorial *= num\n",
        "  num -= 1\n",
        "print(factorial)\n",
        "\n"
      ],
      "metadata": {
        "colab": {
          "base_uri": "https://localhost:8080/"
        },
        "id": "PUqImltouCcQ",
        "outputId": "1c4b2ca2-c72f-413a-c83c-0b3ceccc3c19"
      },
      "execution_count": 9,
      "outputs": [
        {
          "output_type": "stream",
          "name": "stdout",
          "text": [
            "120\n"
          ]
        }
      ]
    },
    {
      "cell_type": "code",
      "source": [
        "for i in list:\n",
        "  print(i)\n",
        "  if i == 8:\n",
        "    break\n",
        "else:\n",
        "  print(\"Loop executed successfully\")"
      ],
      "metadata": {
        "colab": {
          "base_uri": "https://localhost:8080/"
        },
        "id": "il-bS6onzIwy",
        "outputId": "6bff66dc-a4e4-42cb-c47c-dd191d0f4851"
      },
      "execution_count": 11,
      "outputs": [
        {
          "output_type": "stream",
          "name": "stdout",
          "text": [
            "2\n",
            "4\n",
            "5\n",
            "6\n",
            "7\n",
            "8\n"
          ]
        }
      ]
    },
    {
      "cell_type": "code",
      "source": [
        "str2 = \"Ankit\"\n",
        "for i in str2:\n",
        "  print(i)\n",
        "else:\n",
        "  print(\"Loop executed successfully\")"
      ],
      "metadata": {
        "colab": {
          "base_uri": "https://localhost:8080/"
        },
        "id": "kkBgrQewzS3p",
        "outputId": "8ed9852a-3e5a-47a0-94aa-ebff01898410"
      },
      "execution_count": 12,
      "outputs": [
        {
          "output_type": "stream",
          "name": "stdout",
          "text": [
            "A\n",
            "n\n",
            "k\n",
            "i\n",
            "t\n",
            "Loop executed successfully\n"
          ]
        }
      ]
    },
    {
      "cell_type": "code",
      "source": [
        "for i in list:\n",
        "  print(i)\n",
        "  if i == 8:\n",
        "    break\n",
        "else:\n",
        "  print(\"Loop executed successfully\")\n",
        ""
      ],
      "metadata": {
        "colab": {
          "base_uri": "https://localhost:8080/"
        },
        "id": "-Do2xJWazcR9",
        "outputId": "0dbaf81a-4292-48db-919a-4d0df8a5d6fc"
      },
      "execution_count": 13,
      "outputs": [
        {
          "output_type": "stream",
          "name": "stdout",
          "text": [
            "2\n",
            "4\n",
            "5\n",
            "6\n",
            "7\n",
            "8\n"
          ]
        }
      ]
    },
    {
      "cell_type": "code",
      "source": [
        "list2=[2,3,4,5,6,7,8,9]\n",
        "low = 0\n",
        "high = len(list2) -1\n",
        "while low < high:\n",
        "  list2[low], list2[high] = list2[high], list2[low]\n",
        "  low +=1\n",
        "  high -=1\n",
        "print(list2)"
      ],
      "metadata": {
        "colab": {
          "base_uri": "https://localhost:8080/"
        },
        "id": "2RtauUodz1DE",
        "outputId": "ace0222a-f3d6-41ef-bb9a-686c2fbf9fd2"
      },
      "execution_count": 20,
      "outputs": [
        {
          "output_type": "stream",
          "name": "stdout",
          "text": [
            "[9, 8, 7, 6, 5, 4, 3, 2]\n"
          ]
        }
      ]
    }
  ]
}