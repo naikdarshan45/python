{
  "nbformat": 4,
  "nbformat_minor": 0,
  "metadata": {
    "colab": {
      "provenance": [],
      "authorship_tag": "ABX9TyMqT/dav7/If7uN/7GNv3yG",
      "include_colab_link": true
    },
    "kernelspec": {
      "name": "python3",
      "display_name": "Python 3"
    },
    "language_info": {
      "name": "python"
    }
  },
  "cells": [
    {
      "cell_type": "markdown",
      "metadata": {
        "id": "view-in-github",
        "colab_type": "text"
      },
      "source": [
        "<a href=\"https://colab.research.google.com/github/naikdarshan45/python/blob/main/Exception_Handling_in_Python.ipynb\" target=\"_parent\"><img src=\"https://colab.research.google.com/assets/colab-badge.svg\" alt=\"Open In Colab\"/></a>"
      ]
    },
    {
      "cell_type": "code",
      "execution_count": 2,
      "metadata": {
        "id": "HUi0IihYpk-C",
        "colab": {
          "base_uri": "https://localhost:8080/"
        },
        "outputId": "9a8c27ac-e882-4cfd-fb35-f8b6d44beae3"
      },
      "outputs": [
        {
          "output_type": "stream",
          "name": "stdout",
          "text": [
            "hello world\n"
          ]
        }
      ],
      "source": [
        "try:\n",
        "  a=6\n",
        "  b=0\n",
        "  c=a/b\n",
        "  print(C)\n",
        "except:\n",
        "  pass\n",
        "print(\"hello world\")"
      ]
    },
    {
      "cell_type": "code",
      "source": [
        "try:\n",
        "  a=6\n",
        "  b=0\n",
        "  c=a/b\n",
        "  print(C)\n",
        "except Exception as e:\n",
        "  print(e)\n",
        "print(\"hello world\")"
      ],
      "metadata": {
        "colab": {
          "base_uri": "https://localhost:8080/"
        },
        "id": "j9ljezGHNPYc",
        "outputId": "3dc285dd-939a-4219-cdbd-f5404f765970"
      },
      "execution_count": 4,
      "outputs": [
        {
          "output_type": "stream",
          "name": "stdout",
          "text": [
            "division by zero\n",
            "hello world\n"
          ]
        }
      ]
    },
    {
      "cell_type": "code",
      "source": [
        "try:\n",
        "  a=6\n",
        "  b=0\n",
        "  c=a/b\n",
        "  print(C)\n",
        "except ZeroDivisionError as e:\n",
        "  print(e)\n",
        "print(\"hello world\")"
      ],
      "metadata": {
        "colab": {
          "base_uri": "https://localhost:8080/"
        },
        "id": "wRdUULP9PmEG",
        "outputId": "d7b1a0be-fcf0-43a3-d696-eee4ac3e1f7a"
      },
      "execution_count": 6,
      "outputs": [
        {
          "output_type": "stream",
          "name": "stdout",
          "text": [
            "division by zero\n",
            "hello world\n"
          ]
        }
      ]
    },
    {
      "cell_type": "code",
      "source": [
        "try:\n",
        "  a=6\n",
        "  b=2\n",
        "  c = a/b\n",
        "  print(c)\n",
        "except Exception as e:\n",
        "  print(e)\n",
        "else:\n",
        "  print(\"it will execute only when your try block will execute sucessfully \")"
      ],
      "metadata": {
        "colab": {
          "base_uri": "https://localhost:8080/"
        },
        "id": "9tXdajOzP6DA",
        "outputId": "1aeffb62-ee06-4c08-edef-f62fa3efb7d9"
      },
      "execution_count": 9,
      "outputs": [
        {
          "output_type": "stream",
          "name": "stdout",
          "text": [
            "3.0\n",
            "it will execute only when your try block will execute sucessfully \n"
          ]
        }
      ]
    },
    {
      "cell_type": "code",
      "source": [
        "try:\n",
        "  a=6\n",
        "  b=0\n",
        "  c = a/b\n",
        "  print(c)\n",
        "except Exception as e:\n",
        "  print(e)\n",
        "else:\n",
        "  print(\"it will execute only when your try block will execute sucessfully \")\n",
        "finally:\n",
        "  print(\"this block will execute always\")"
      ],
      "metadata": {
        "colab": {
          "base_uri": "https://localhost:8080/"
        },
        "id": "uT1J75eHRBUt",
        "outputId": "2401a61f-1eae-4013-a552-3ec8ac8d86ec"
      },
      "execution_count": 10,
      "outputs": [
        {
          "output_type": "stream",
          "name": "stdout",
          "text": [
            "division by zero\n",
            "this block will execute always\n"
          ]
        }
      ]
    }
  ]
}