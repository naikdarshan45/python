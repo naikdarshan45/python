{
  "nbformat": 4,
  "nbformat_minor": 0,
  "metadata": {
    "colab": {
      "provenance": [],
      "authorship_tag": "ABX9TyMjSOmZQEg5p2D5sK0vHCai",
      "include_colab_link": true
    },
    "kernelspec": {
      "name": "python3",
      "display_name": "Python 3"
    },
    "language_info": {
      "name": "python"
    }
  },
  "cells": [
    {
      "cell_type": "markdown",
      "metadata": {
        "id": "view-in-github",
        "colab_type": "text"
      },
      "source": [
        "<a href=\"https://colab.research.google.com/github/naikdarshan45/python/blob/main/Functions_in_Python.ipynb\" target=\"_parent\"><img src=\"https://colab.research.google.com/assets/colab-badge.svg\" alt=\"Open In Colab\"/></a>"
      ]
    },
    {
      "cell_type": "code",
      "execution_count": null,
      "metadata": {
        "colab": {
          "base_uri": "https://localhost:8080/"
        },
        "id": "a1NmBF4U7mXN",
        "outputId": "7c9b078b-8ed6-4223-afcf-d8795ba325e4"
      },
      "outputs": [
        {
          "output_type": "stream",
          "name": "stdout",
          "text": [
            "[11, 22, 33, 66]\n"
          ]
        }
      ],
      "source": [
        "def reverse(list):\n",
        "  low, high = 0, len(list) -1\n",
        "  while low< high:\n",
        "    list[low], list[high] = list[high], list[low]\n",
        "    low += 1\n",
        "    high -= 1\n",
        "  return list\n",
        "list=[66, 33, 22, 11]\n",
        "print(reverse(list))"
      ]
    },
    {
      "cell_type": "code",
      "source": [
        "def sumofthelist(list1):\n",
        "  sum1 = 0\n",
        "  for i in list1:\n",
        "    sum1 += i\n",
        "  return sum1\n",
        "  list1=[2,5,8,9]\n",
        "  printsumofthelist()"
      ],
      "metadata": {
        "id": "PH37olCA_MQh"
      },
      "execution_count": null,
      "outputs": []
    }
  ]
}